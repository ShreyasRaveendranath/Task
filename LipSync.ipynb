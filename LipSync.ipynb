{
  "cells": [
    {
      "cell_type": "markdown",
      "metadata": {
        "id": "Fvq3JwVASZQK"
      },
      "source": [
        "Collab preliminaries"
      ]
    },
    {
      "cell_type": "code",
      "execution_count": null,
      "metadata": {
        "colab": {
          "base_uri": "https://localhost:8080/"
        },
        "id": "rm0hiJ2NPW_0",
        "outputId": "3c9c4709-02fb-4d07-ecf0-1cd05eeba246"
      },
      "outputs": [
        {
          "output_type": "stream",
          "name": "stdout",
          "text": [
            "nvcc: NVIDIA (R) Cuda compiler driver\n",
            "Copyright (c) 2005-2022 NVIDIA Corporation\n",
            "Built on Wed_Sep_21_10:33:58_PDT_2022\n",
            "Cuda compilation tools, release 11.8, V11.8.89\n",
            "Build cuda_11.8.r11.8/compiler.31833905_0\n"
          ]
        }
      ],
      "source": [
        "!nvcc --version"
      ]
    },
    {
      "cell_type": "code",
      "execution_count": null,
      "metadata": {
        "colab": {
          "base_uri": "https://localhost:8080/"
        },
        "id": "aeuJHmA0PaiN",
        "outputId": "9ba7a865-55ad-4754-c67a-b3d18dacb3e1"
      },
      "outputs": [
        {
          "output_type": "stream",
          "name": "stdout",
          "text": [
            "Mounted at /content/gdrive\n"
          ]
        }
      ],
      "source": [
        "from google.colab import drive\n",
        "drive.mount('/content/gdrive')"
      ]
    },
    {
      "cell_type": "markdown",
      "metadata": {
        "id": "hZGJT4LpSeg8"
      },
      "source": [
        "Get the code and models"
      ]
    },
    {
      "cell_type": "code",
      "execution_count": null,
      "metadata": {
        "colab": {
          "base_uri": "https://localhost:8080/"
        },
        "id": "erD2vI4lPcuO",
        "outputId": "6a8bd8e8-4f8d-4962-b089-8bbe38316aec"
      },
      "outputs": [
        {
          "output_type": "stream",
          "name": "stdout",
          "text": [
            "Cloning into 'Wav2Lip'...\n",
            "remote: Enumerating objects: 187, done.\u001b[K\n",
            "remote: Counting objects: 100% (93/93), done.\u001b[K\n",
            "remote: Compressing objects: 100% (49/49), done.\u001b[K\n",
            "remote: Total 187 (delta 41), reused 93 (delta 41), pack-reused 94\u001b[K\n",
            "Receiving objects: 100% (187/187), 470.20 KiB | 2.25 MiB/s, done.\n",
            "Resolving deltas: 100% (75/75), done.\n"
          ]
        }
      ],
      "source": [
        "!git clone https://github.com/HemantBK/Wav2Lip.git"
      ]
    },
    {
      "cell_type": "code",
      "execution_count": null,
      "metadata": {
        "colab": {
          "base_uri": "https://localhost:8080/"
        },
        "id": "-ov5BU48PiPZ",
        "outputId": "96852755-bf2f-4c45-f138-1d4e2b6396a6"
      },
      "outputs": [
        {
          "output_type": "stream",
          "name": "stdout",
          "text": [
            "kennedy1min.mp4  mona1min.mp4  v1.mp4  v.mp4\n",
            "kennedy.mp4\t output10.wav  v2.mp4  wav2lip_gan.pth\n"
          ]
        }
      ],
      "source": [
        "!ls /content/gdrive/MyDrive/Wav2Lip"
      ]
    },
    {
      "cell_type": "code",
      "execution_count": null,
      "metadata": {
        "id": "Mcyh3jtQPkKC"
      },
      "outputs": [],
      "source": [
        "!cp -ri \"/content/gdrive/MyDrive/Wav2Lip/wav2lip_gan.pth\" /content/Wav2Lip/checkpoints/"
      ]
    },
    {
      "cell_type": "markdown",
      "metadata": {
        "id": "p0tdRhJ8SOjI"
      },
      "source": [
        "Get the pre-requisites"
      ]
    },
    {
      "cell_type": "code",
      "execution_count": null,
      "metadata": {
        "colab": {
          "base_uri": "https://localhost:8080/"
        },
        "id": "qjhuTUH9SIXf",
        "outputId": "81c100b2-f163-458c-e5db-f8cf21d44bd4"
      },
      "outputs": [
        {
          "output_type": "stream",
          "name": "stdout",
          "text": [
            "Found existing installation: tensorflow 2.12.0\n",
            "Uninstalling tensorflow-2.12.0:\n",
            "  Would remove:\n",
            "    /usr/local/bin/estimator_ckpt_converter\n",
            "    /usr/local/bin/import_pb_to_tensorboard\n",
            "    /usr/local/bin/saved_model_cli\n",
            "    /usr/local/bin/tensorboard\n",
            "    /usr/local/bin/tf_upgrade_v2\n",
            "    /usr/local/bin/tflite_convert\n",
            "    /usr/local/bin/toco\n",
            "    /usr/local/bin/toco_from_protos\n",
            "    /usr/local/lib/python3.10/dist-packages/tensorflow-2.12.0.dist-info/*\n",
            "    /usr/local/lib/python3.10/dist-packages/tensorflow/*\n",
            "Proceed (Y/n)? y\n",
            "  Successfully uninstalled tensorflow-2.12.0\n",
            "\u001b[33mWARNING: Skipping tensorflow-gpu as it is not installed.\u001b[0m\u001b[33m\n",
            "\u001b[0m"
          ]
        }
      ],
      "source": [
        "!pip uninstall tensorflow tensorflow-gpu"
      ]
    },
    {
      "cell_type": "code",
      "execution_count": null,
      "metadata": {
        "colab": {
          "base_uri": "https://localhost:8080/"
        },
        "id": "ZVJVonyvSpMX",
        "outputId": "f6baa25d-bedc-4854-b092-117113b4cde0"
      },
      "outputs": [
        {
          "output_type": "stream",
          "name": "stdout",
          "text": [
            "Collecting librosa==0.7.0 (from -r requirements.txt (line 1))\n",
            "  Downloading librosa-0.7.0.tar.gz (1.6 MB)\n",
            "\u001b[?25l     \u001b[90m━━━━━━━━━━━━━━━━━━━━━━━━━━━━━━━━━━━━━━━━\u001b[0m \u001b[32m0.0/1.6 MB\u001b[0m \u001b[31m?\u001b[0m eta \u001b[36m-:--:--\u001b[0m\r\u001b[2K     \u001b[91m━━━━━━━━━━━━━━━━━━━━━━━━━━━━━━━━━━━━━━━\u001b[0m\u001b[91m╸\u001b[0m \u001b[32m1.6/1.6 MB\u001b[0m \u001b[31m58.0 MB/s\u001b[0m eta \u001b[36m0:00:01\u001b[0m\r\u001b[2K     \u001b[90m━━━━━━━━━━━━━━━━━━━━━━━━━━━━━━━━━━━━━━━━\u001b[0m \u001b[32m1.6/1.6 MB\u001b[0m \u001b[31m41.0 MB/s\u001b[0m eta \u001b[36m0:00:00\u001b[0m\n",
            "\u001b[?25h  Preparing metadata (setup.py) ... \u001b[?25l\u001b[?25hdone\n",
            "Collecting numpy==1.17.1 (from -r requirements.txt (line 2))\n",
            "  Downloading numpy-1.17.1.zip (6.5 MB)\n",
            "\u001b[2K     \u001b[90m━━━━━━━━━━━━━━━━━━━━━━━━━━━━━━━━━━━━━━━━\u001b[0m \u001b[32m6.5/6.5 MB\u001b[0m \u001b[31m60.0 MB/s\u001b[0m eta \u001b[36m0:00:00\u001b[0m\n",
            "\u001b[?25h  Preparing metadata (setup.py) ... \u001b[?25l\u001b[?25hdone\n",
            "Requirement already satisfied: opencv-contrib-python>=4.2.0.34 in /usr/local/lib/python3.10/dist-packages (from -r requirements.txt (line 3)) (4.7.0.72)\n",
            "\u001b[31mERROR: Could not find a version that satisfies the requirement opencv-python==4.1.0.25 (from versions: 3.4.0.14, 3.4.10.37, 3.4.11.39, 3.4.11.41, 3.4.11.43, 3.4.11.45, 3.4.13.47, 3.4.15.55, 3.4.16.57, 3.4.16.59, 3.4.17.61, 3.4.17.63, 3.4.18.65, 4.3.0.38, 4.4.0.40, 4.4.0.42, 4.4.0.44, 4.4.0.46, 4.5.1.48, 4.5.3.56, 4.5.4.58, 4.5.4.60, 4.5.5.62, 4.5.5.64, 4.6.0.66, 4.7.0.68, 4.7.0.72, 4.8.0.74)\u001b[0m\u001b[31m\n",
            "\u001b[0m\u001b[31mERROR: No matching distribution found for opencv-python==4.1.0.25\u001b[0m\u001b[31m\n",
            "\u001b[0m"
          ]
        }
      ],
      "source": [
        "!cd Wav2Lip && pip install -r requirements.txt"
      ]
    },
    {
      "cell_type": "code",
      "execution_count": null,
      "metadata": {
        "colab": {
          "base_uri": "https://localhost:8080/"
        },
        "id": "fQO9A3IeSweU",
        "outputId": "9fd2b38a-3220-4aa5-ea80-b2669dce39c9"
      },
      "outputs": [
        {
          "output_type": "stream",
          "name": "stdout",
          "text": [
            "--2023-07-19 12:37:35--  https://www.adrianbulat.com/downloads/python-fan/s3fd-619a316812.pth\n",
            "Resolving www.adrianbulat.com (www.adrianbulat.com)... 45.136.29.207\n",
            "Connecting to www.adrianbulat.com (www.adrianbulat.com)|45.136.29.207|:443... connected.\n",
            "HTTP request sent, awaiting response... 200 OK\n",
            "Length: 89843225 (86M) [application/octet-stream]\n",
            "Saving to: ‘Wav2Lip/face_detection/detection/sfd/s3fd.pth’\n",
            "\n",
            "Wav2Lip/face_detect 100%[===================>]  85.68M  8.19MB/s    in 5.9s    \n",
            "\n",
            "2023-07-19 12:37:41 (14.4 MB/s) - ‘Wav2Lip/face_detection/detection/sfd/s3fd.pth’ saved [89843225/89843225]\n",
            "\n"
          ]
        }
      ],
      "source": [
        "!wget \"https://www.adrianbulat.com/downloads/python-fan/s3fd-619a316812.pth\" -O \"Wav2Lip/face_detection/detection/sfd/s3fd.pth\""
      ]
    },
    {
      "cell_type": "markdown",
      "metadata": {
        "id": "cuW0G8rjTAJk"
      },
      "source": [
        "Now lets try!"
      ]
    },
    {
      "cell_type": "code",
      "execution_count": null,
      "metadata": {
        "colab": {
          "base_uri": "https://localhost:8080/"
        },
        "id": "OUz7t1vXS6Xb",
        "outputId": "1cc2d162-320b-4fa4-fcbf-929108078d61"
      },
      "outputs": [
        {
          "output_type": "stream",
          "name": "stdout",
          "text": [
            "anscombe.json\t\t      mnist_test.csv\t     output10.wav\n",
            "california_housing_test.csv   mnist_train_small.csv  README.md\n",
            "california_housing_train.csv  mona1min.mp4\n"
          ]
        }
      ],
      "source": [
        "!cp \"/content/gdrive/My Drive/Wav2Lip/mona1min.mp4\" \"/content/gdrive/My Drive/Wav2Lip/output10.wav\" sample_data/\n",
        "!ls sample_data/"
      ]
    },
    {
      "cell_type": "code",
      "execution_count": null,
      "metadata": {
        "colab": {
          "base_uri": "https://localhost:8080/"
        },
        "id": "OL7Mw2g1TUwM",
        "outputId": "1ccedf9b-e7b3-4398-9d0a-45d1eb840ac3"
      },
      "outputs": [
        {
          "output_type": "stream",
          "name": "stdout",
          "text": [
            "Using cuda for inference.\n",
            "Reading video frames...\n",
            "Number of frames available for inference: 2398\n",
            "(80, 5386)\n",
            "Length of mel chunks: 2014\n",
            "  0% 0/16 [00:00<?, ?it/s]\n",
            "  0% 0/126 [00:00<?, ?it/s]\u001b[A\n",
            "  1% 1/126 [02:58<6:11:05, 178.12s/it]\u001b[A\n",
            "  2% 2/126 [03:01<2:35:41, 75.33s/it] \u001b[A\n",
            "  2% 3/126 [03:04<1:26:46, 42.33s/it]\u001b[A\n",
            "  3% 4/126 [03:07<54:38, 26.88s/it]  \u001b[A\n",
            "  4% 5/126 [03:10<36:41, 18.20s/it]\u001b[A\n",
            "  5% 6/126 [03:13<25:55, 12.96s/it]\u001b[A\n",
            "  6% 7/126 [03:16<19:07,  9.64s/it]\u001b[A\n",
            "  6% 8/126 [03:19<14:44,  7.49s/it]\u001b[A\n",
            "  7% 9/126 [03:22<11:56,  6.12s/it]\u001b[A\n",
            "  8% 10/126 [03:24<09:51,  5.10s/it]\u001b[A\n",
            "  9% 11/126 [03:27<08:26,  4.40s/it]\u001b[A\n",
            " 10% 12/126 [03:30<07:26,  3.92s/it]\u001b[A\n",
            " 10% 13/126 [03:33<06:48,  3.61s/it]\u001b[A\n",
            " 11% 14/126 [03:36<06:29,  3.48s/it]\u001b[A\n",
            " 12% 15/126 [03:39<06:05,  3.29s/it]\u001b[A\n",
            " 13% 16/126 [03:42<05:46,  3.15s/it]\u001b[A\n",
            " 13% 17/126 [03:45<05:33,  3.06s/it]\u001b[A\n",
            " 14% 18/126 [03:48<05:31,  3.07s/it]\u001b[A\n",
            " 15% 19/126 [03:51<05:30,  3.09s/it]\u001b[A\n",
            " 16% 20/126 [03:54<05:19,  3.02s/it]\u001b[A\n",
            " 17% 21/126 [03:57<05:11,  2.97s/it]\u001b[A\n",
            " 17% 22/126 [04:00<05:07,  2.96s/it]\u001b[A\n",
            " 18% 23/126 [04:03<05:13,  3.04s/it]\u001b[A\n",
            " 19% 24/126 [04:06<05:03,  2.97s/it]\u001b[A\n",
            " 20% 25/126 [04:08<04:55,  2.93s/it]\u001b[A\n",
            " 21% 26/126 [04:11<04:50,  2.90s/it]\u001b[A\n",
            " 21% 27/126 [04:14<04:47,  2.90s/it]\u001b[A\n",
            " 22% 28/126 [04:17<04:51,  2.98s/it]\u001b[A\n",
            " 23% 29/126 [04:20<04:43,  2.92s/it]\u001b[A\n",
            " 24% 30/126 [04:23<04:37,  2.89s/it]\u001b[A\n",
            " 25% 31/126 [04:26<04:32,  2.87s/it]\u001b[A\n",
            " 25% 32/126 [04:29<04:30,  2.88s/it]\u001b[A\n",
            " 26% 33/126 [04:32<04:35,  2.96s/it]\u001b[A\n",
            " 27% 34/126 [04:35<04:28,  2.91s/it]\u001b[A\n",
            " 28% 35/126 [04:37<04:22,  2.88s/it]\u001b[A\n",
            " 29% 36/126 [04:40<04:17,  2.86s/it]\u001b[A\n",
            " 29% 37/126 [04:43<04:16,  2.88s/it]\u001b[A\n",
            " 30% 38/126 [04:46<04:20,  2.96s/it]\u001b[A\n",
            " 31% 39/126 [04:49<04:13,  2.91s/it]\u001b[A\n",
            " 32% 40/126 [04:52<04:07,  2.88s/it]\u001b[A\n",
            " 33% 41/126 [04:55<04:05,  2.89s/it]\u001b[A\n",
            " 33% 42/126 [04:58<04:11,  2.99s/it]\u001b[A\n",
            " 34% 43/126 [05:01<04:09,  3.01s/it]\u001b[A\n",
            " 35% 44/126 [05:04<04:01,  2.95s/it]\u001b[A\n",
            " 36% 45/126 [05:07<03:55,  2.91s/it]\u001b[A\n",
            " 37% 46/126 [05:10<03:53,  2.92s/it]\u001b[A\n",
            " 37% 47/126 [05:13<03:56,  2.99s/it]\u001b[A\n",
            " 38% 48/126 [05:16<03:49,  2.94s/it]\u001b[A\n",
            " 39% 49/126 [05:19<03:43,  2.90s/it]\u001b[A\n",
            " 40% 50/126 [05:21<03:37,  2.87s/it]\u001b[A\n",
            " 40% 51/126 [05:24<03:37,  2.89s/it]\u001b[A\n",
            " 41% 52/126 [05:27<03:39,  2.97s/it]\u001b[A\n",
            " 42% 53/126 [05:30<03:33,  2.92s/it]\u001b[A\n",
            " 43% 54/126 [05:33<03:27,  2.89s/it]\u001b[A\n",
            " 44% 55/126 [05:36<03:23,  2.87s/it]\u001b[A\n",
            " 44% 56/126 [05:39<03:21,  2.88s/it]\u001b[A\n",
            " 45% 57/126 [05:42<03:23,  2.95s/it]\u001b[A\n",
            " 46% 58/126 [05:45<03:17,  2.91s/it]\u001b[A\n",
            " 47% 59/126 [05:47<03:13,  2.88s/it]\u001b[A\n",
            " 48% 60/126 [05:50<03:09,  2.87s/it]\u001b[A\n",
            " 48% 61/126 [05:53<03:11,  2.95s/it]\u001b[A\n",
            " 49% 62/126 [05:57<03:12,  3.01s/it]\u001b[A\n",
            " 50% 63/126 [05:59<03:06,  2.95s/it]\u001b[A\n",
            " 51% 64/126 [06:02<03:00,  2.91s/it]\u001b[A\n",
            " 52% 65/126 [06:05<02:57,  2.91s/it]\u001b[A\n",
            " 52% 66/126 [06:08<03:00,  3.01s/it]\u001b[A\n",
            " 53% 67/126 [06:11<02:54,  2.96s/it]\u001b[A\n",
            " 54% 68/126 [06:14<02:48,  2.91s/it]\u001b[A\n",
            " 55% 69/126 [06:17<02:44,  2.88s/it]\u001b[A\n",
            " 56% 70/126 [06:20<02:41,  2.89s/it]\u001b[A\n",
            " 56% 71/126 [06:23<02:42,  2.96s/it]\u001b[A\n",
            " 57% 72/126 [06:26<02:37,  2.91s/it]\u001b[A\n",
            " 58% 73/126 [06:29<02:33,  2.89s/it]\u001b[A\n",
            " 59% 74/126 [06:31<02:29,  2.88s/it]\u001b[A\n",
            " 60% 75/126 [06:34<02:27,  2.89s/it]\u001b[A\n",
            " 60% 76/126 [06:37<02:27,  2.96s/it]\u001b[A\n",
            " 61% 77/126 [06:40<02:23,  2.93s/it]\u001b[A\n",
            " 62% 78/126 [06:43<02:18,  2.90s/it]\u001b[A\n",
            " 63% 79/126 [06:46<02:15,  2.87s/it]\u001b[A\n",
            " 63% 80/126 [06:49<02:13,  2.91s/it]\u001b[A\n",
            " 64% 81/126 [06:52<02:14,  2.98s/it]\u001b[A\n",
            " 65% 82/126 [06:55<02:08,  2.93s/it]\u001b[A\n",
            " 66% 83/126 [06:58<02:08,  2.99s/it]\u001b[A\n",
            " 67% 84/126 [07:01<02:09,  3.08s/it]\u001b[A\n",
            " 67% 85/126 [07:04<02:06,  3.10s/it]\u001b[A\n",
            " 68% 86/126 [07:07<02:00,  3.01s/it]\u001b[A\n",
            " 69% 87/126 [07:10<01:55,  2.96s/it]\u001b[A\n",
            " 70% 88/126 [07:13<01:50,  2.91s/it]\u001b[A\n",
            " 71% 89/126 [07:16<01:47,  2.91s/it]\u001b[A\n",
            " 71% 90/126 [07:19<01:47,  2.98s/it]\u001b[A\n",
            " 72% 91/126 [07:22<01:42,  2.93s/it]\u001b[A\n",
            " 73% 92/126 [07:25<01:38,  2.89s/it]\u001b[A\n",
            " 74% 93/126 [07:27<01:34,  2.87s/it]\u001b[A\n",
            " 75% 94/126 [07:30<01:32,  2.88s/it]\u001b[A\n",
            " 75% 95/126 [07:33<01:31,  2.97s/it]\u001b[A\n",
            " 76% 96/126 [07:36<01:27,  2.92s/it]\u001b[A\n",
            " 77% 97/126 [07:39<01:23,  2.88s/it]\u001b[A\n",
            " 78% 98/126 [07:42<01:20,  2.86s/it]\u001b[A\n",
            " 79% 99/126 [07:45<01:19,  2.93s/it]\u001b[A\n",
            " 79% 100/126 [07:48<01:18,  3.00s/it]\u001b[A\n",
            " 80% 101/126 [07:51<01:13,  2.95s/it]\u001b[A\n",
            " 81% 102/126 [07:54<01:09,  2.91s/it]\u001b[A\n",
            " 82% 103/126 [07:57<01:06,  2.91s/it]\u001b[A\n",
            " 83% 104/126 [08:00<01:06,  3.00s/it]\u001b[A\n",
            " 83% 105/126 [08:03<01:02,  2.97s/it]\u001b[A\n",
            " 84% 106/126 [08:06<00:58,  2.92s/it]\u001b[A\n",
            " 85% 107/126 [08:08<00:54,  2.89s/it]\u001b[A\n",
            " 86% 108/126 [08:11<00:52,  2.90s/it]\u001b[A\n",
            " 87% 109/126 [08:14<00:50,  2.97s/it]\u001b[A\n",
            " 87% 110/126 [08:17<00:46,  2.92s/it]\u001b[A\n",
            " 88% 111/126 [08:20<00:43,  2.89s/it]\u001b[A\n",
            " 89% 112/126 [08:23<00:40,  2.87s/it]\u001b[A\n",
            " 90% 113/126 [08:26<00:37,  2.87s/it]\u001b[A\n",
            " 90% 114/126 [08:29<00:35,  2.95s/it]\u001b[A\n",
            " 91% 115/126 [08:32<00:32,  2.91s/it]\u001b[A\n",
            " 92% 116/126 [08:35<00:28,  2.88s/it]\u001b[A\n",
            " 93% 117/126 [08:37<00:25,  2.86s/it]\u001b[A\n",
            " 94% 118/126 [08:40<00:23,  2.89s/it]\u001b[A\n",
            " 94% 119/126 [08:43<00:20,  2.97s/it]\u001b[A\n",
            " 95% 120/126 [08:46<00:17,  2.92s/it]\u001b[A\n",
            " 96% 121/126 [08:49<00:14,  2.89s/it]\u001b[A\n",
            " 97% 122/126 [08:52<00:11,  2.87s/it]\u001b[A\n",
            " 98% 123/126 [08:55<00:08,  2.97s/it]\u001b[A\n",
            " 98% 124/126 [08:58<00:06,  3.01s/it]\u001b[A\n",
            " 99% 125/126 [09:01<00:02,  2.95s/it]\u001b[A\n",
            "100% 126/126 [09:35<00:00,  4.57s/it]\n",
            "Load checkpoint from: checkpoints/wav2lip_gan.pth\n",
            "Model loaded\n",
            "100% 16/16 [10:18<00:00, 38.65s/it]\n",
            "ffmpeg version 4.2.7-0ubuntu0.1 Copyright (c) 2000-2022 the FFmpeg developers\n",
            "  built with gcc 9 (Ubuntu 9.4.0-1ubuntu1~20.04.1)\n",
            "  configuration: --prefix=/usr --extra-version=0ubuntu0.1 --toolchain=hardened --libdir=/usr/lib/x86_64-linux-gnu --incdir=/usr/include/x86_64-linux-gnu --arch=amd64 --enable-gpl --disable-stripping --enable-avresample --disable-filter=resample --enable-avisynth --enable-gnutls --enable-ladspa --enable-libaom --enable-libass --enable-libbluray --enable-libbs2b --enable-libcaca --enable-libcdio --enable-libcodec2 --enable-libflite --enable-libfontconfig --enable-libfreetype --enable-libfribidi --enable-libgme --enable-libgsm --enable-libjack --enable-libmp3lame --enable-libmysofa --enable-libopenjpeg --enable-libopenmpt --enable-libopus --enable-libpulse --enable-librsvg --enable-librubberband --enable-libshine --enable-libsnappy --enable-libsoxr --enable-libspeex --enable-libssh --enable-libtheora --enable-libtwolame --enable-libvidstab --enable-libvorbis --enable-libvpx --enable-libwavpack --enable-libwebp --enable-libx265 --enable-libxml2 --enable-libxvid --enable-libzmq --enable-libzvbi --enable-lv2 --enable-omx --enable-openal --enable-opencl --enable-opengl --enable-sdl2 --enable-libdc1394 --enable-libdrm --enable-libiec61883 --enable-nvenc --enable-chromaprint --enable-frei0r --enable-libx264 --enable-shared\n",
            "  libavutil      56. 31.100 / 56. 31.100\n",
            "  libavcodec     58. 54.100 / 58. 54.100\n",
            "  libavformat    58. 29.100 / 58. 29.100\n",
            "  libavdevice    58.  8.100 / 58.  8.100\n",
            "  libavfilter     7. 57.100 /  7. 57.100\n",
            "  libavresample   4.  0.  0 /  4.  0.  0\n",
            "  libswscale      5.  5.100 /  5.  5.100\n",
            "  libswresample   3.  5.100 /  3.  5.100\n",
            "  libpostproc    55.  5.100 / 55.  5.100\n",
            "\u001b[0;35m[mp3 @ 0x584e376b20c0] \u001b[0m\u001b[0;33mEstimating duration from bitrate, this may be inaccurate\n",
            "\u001b[0mInput #0, mp3, from '/content/gdrive/MyDrive/Wav2Lip/output10.wav':\n",
            "  Duration: 00:01:07.32, start: 0.000000, bitrate: 96 kb/s\n",
            "    Stream #0:0: Audio: mp3, 44100 Hz, mono, fltp, 96 kb/s\n",
            "Input #1, avi, from 'temp/result.avi':\n",
            "  Metadata:\n",
            "    encoder         : Lavf59.27.100\n",
            "  Duration: 00:01:07.20, start: 0.000000, bitrate: 2106 kb/s\n",
            "    Stream #1:0: Video: mpeg4 (Simple Profile) (DIVX / 0x58564944), yuv420p, 1280x720 [SAR 1:1 DAR 16:9], 2101 kb/s, 29.97 fps, 29.97 tbr, 29.97 tbn, 2997 tbc\n",
            "Stream mapping:\n",
            "  Stream #1:0 -> #0:0 (mpeg4 (native) -> h264 (libx264))\n",
            "  Stream #0:0 -> #0:1 (mp3 (mp3float) -> aac (native))\n",
            "Press [q] to stop, [?] for help\n",
            "\u001b[1;36m[libx264 @ 0x584e376c7280] \u001b[0m\u001b[0;33m-qscale is ignored, -crf is recommended.\n",
            "\u001b[0m\u001b[1;36m[libx264 @ 0x584e376c7280] \u001b[0musing SAR=1/1\n",
            "\u001b[1;36m[libx264 @ 0x584e376c7280] \u001b[0musing cpu capabilities: MMX2 SSE2Fast SSSE3 SSE4.2 AVX FMA3 BMI2 AVX2 AVX512\n",
            "\u001b[1;36m[libx264 @ 0x584e376c7280] \u001b[0mprofile High, level 3.1\n",
            "\u001b[1;36m[libx264 @ 0x584e376c7280] \u001b[0m264 - core 155 r2917 0a84d98 - H.264/MPEG-4 AVC codec - Copyleft 2003-2018 - http://www.videolan.org/x264.html - options: cabac=1 ref=3 deblock=1:0:0 analyse=0x3:0x113 me=hex subme=7 psy=1 psy_rd=1.00:0.00 mixed_ref=1 me_range=16 chroma_me=1 trellis=1 8x8dct=1 cqm=0 deadzone=21,11 fast_pskip=1 chroma_qp_offset=-2 threads=3 lookahead_threads=1 sliced_threads=0 nr=0 decimate=1 interlaced=0 bluray_compat=0 constrained_intra=0 bframes=3 b_pyramid=2 b_adapt=1 b_bias=0 direct=1 weightb=1 open_gop=0 weightp=2 keyint=250 keyint_min=25 scenecut=40 intra_refresh=0 rc_lookahead=40 rc=crf mbtree=1 crf=23.0 qcomp=0.60 qpmin=0 qpmax=69 qpstep=4 ip_ratio=1.40 aq=1:1.00\n",
            "Output #0, mp4, to 'results/result_voice.mp4':\n",
            "  Metadata:\n",
            "    encoder         : Lavf58.29.100\n",
            "    Stream #0:0: Video: h264 (libx264) (avc1 / 0x31637661), yuv420p(progressive), 1280x720 [SAR 1:1 DAR 16:9], q=-1--1, 29.97 fps, 30k tbn, 29.97 tbc\n",
            "    Metadata:\n",
            "      encoder         : Lavc58.54.100 libx264\n",
            "    Side data:\n",
            "      cpb: bitrate max/min/avg: 0/0/0 buffer size: 0 vbv_delay: -1\n",
            "    Stream #0:1: Audio: aac (LC) (mp4a / 0x6134706D), 44100 Hz, mono, fltp, 69 kb/s\n",
            "    Metadata:\n",
            "      encoder         : Lavc58.54.100 aac\n",
            "frame= 2014 fps= 36 q=-1.0 Lsize=    3063kB time=00:01:07.33 bitrate= 372.6kbits/s speed=1.21x    \n",
            "video:2419kB audio:571kB subtitle:0kB other streams:0kB global headers:0kB muxing overhead: 2.427952%\n",
            "\u001b[1;36m[libx264 @ 0x584e376c7280] \u001b[0mframe I:9     Avg QP:15.84  size:114043\n",
            "\u001b[1;36m[libx264 @ 0x584e376c7280] \u001b[0mframe P:521   Avg QP:18.96  size:  1934\n",
            "\u001b[1;36m[libx264 @ 0x584e376c7280] \u001b[0mframe B:1484  Avg QP:30.32  size:   298\n",
            "\u001b[1;36m[libx264 @ 0x584e376c7280] \u001b[0mconsecutive B-frames:  1.0%  1.9%  1.2% 95.9%\n",
            "\u001b[1;36m[libx264 @ 0x584e376c7280] \u001b[0mmb I  I16..4:  1.5% 97.8%  0.8%\n",
            "\u001b[1;36m[libx264 @ 0x584e376c7280] \u001b[0mmb P  I16..4:  0.1%  0.5%  0.0%  P16..4:  8.0%  1.3%  1.4%  0.0%  0.0%    skip:88.7%\n",
            "\u001b[1;36m[libx264 @ 0x584e376c7280] \u001b[0mmb B  I16..4:  0.0%  0.0%  0.0%  B16..8:  5.2%  0.1%  0.0%  direct: 0.0%  skip:94.6%  L0:44.5% L1:54.4% BI: 1.1%\n",
            "\u001b[1;36m[libx264 @ 0x584e376c7280] \u001b[0m8x8 transform intra:94.1% inter:91.9%\n",
            "\u001b[1;36m[libx264 @ 0x584e376c7280] \u001b[0mcoded y,uvDC,uvAC intra: 90.6% 85.3% 33.6% inter: 1.0% 1.4% 0.1%\n",
            "\u001b[1;36m[libx264 @ 0x584e376c7280] \u001b[0mi16 v,h,dc,p: 16% 22%  2% 61%\n",
            "\u001b[1;36m[libx264 @ 0x584e376c7280] \u001b[0mi8 v,h,dc,ddl,ddr,vr,hd,vl,hu: 23% 19% 27%  4%  4%  5%  5%  7%  7%\n",
            "\u001b[1;36m[libx264 @ 0x584e376c7280] \u001b[0mi4 v,h,dc,ddl,ddr,vr,hd,vl,hu: 34% 21% 10%  4%  7%  7%  7%  5%  4%\n",
            "\u001b[1;36m[libx264 @ 0x584e376c7280] \u001b[0mi8c dc,h,v,p: 40% 23% 26% 12%\n",
            "\u001b[1;36m[libx264 @ 0x584e376c7280] \u001b[0mWeighted P-Frames: Y:0.0% UV:0.0%\n",
            "\u001b[1;36m[libx264 @ 0x584e376c7280] \u001b[0mref P L0: 67.7%  6.3% 16.2%  9.7%\n",
            "\u001b[1;36m[libx264 @ 0x584e376c7280] \u001b[0mref B L0: 85.2% 10.2%  4.6%\n",
            "\u001b[1;36m[libx264 @ 0x584e376c7280] \u001b[0mref B L1: 88.8% 11.2%\n",
            "\u001b[1;36m[libx264 @ 0x584e376c7280] \u001b[0mkb/s:294.84\n",
            "\u001b[1;36m[aac @ 0x584e37713d80] \u001b[0mQavg: 158.364\n"
          ]
        }
      ],
      "source": [
        "!cd Wav2Lip && python inference.py --checkpoint_path checkpoints/wav2lip_gan.pth --face \"/content/gdrive/MyDrive/Wav2Lip/mona1min.mp4\" --audio \"/content/gdrive/MyDrive/Wav2Lip/output10.wav\""
      ]
    },
    {
      "cell_type": "code",
      "execution_count": null,
      "metadata": {
        "id": "ls1wFrGzTsmI"
      },
      "outputs": [],
      "source": []
    }
  ],
  "metadata": {
    "colab": {
      "provenance": [],
      "gpuType": "T4"
    },
    "kernelspec": {
      "display_name": "Python 3",
      "name": "python3"
    },
    "language_info": {
      "name": "python"
    },
    "accelerator": "GPU"
  },
  "nbformat": 4,
  "nbformat_minor": 0
}